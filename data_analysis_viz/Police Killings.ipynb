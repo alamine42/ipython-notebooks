{
 "cells": [
  {
   "cell_type": "code",
   "execution_count": 2,
   "metadata": {
    "collapsed": false
   },
   "outputs": [],
   "source": [
    "import pandas as pd\n",
    "police_killings = pd.read_csv('police_killings.csv', encoding='ISO-8859-1')"
   ]
  },
  {
   "cell_type": "code",
   "execution_count": 3,
   "metadata": {
    "collapsed": false
   },
   "outputs": [
    {
     "data": {
      "text/html": [
       "<div style=\"max-height:1000px;max-width:1500px;overflow:auto;\">\n",
       "<table border=\"1\" class=\"dataframe\">\n",
       "  <thead>\n",
       "    <tr style=\"text-align: right;\">\n",
       "      <th></th>\n",
       "      <th>name</th>\n",
       "      <th>age</th>\n",
       "      <th>gender</th>\n",
       "      <th>raceethnicity</th>\n",
       "      <th>month</th>\n",
       "      <th>day</th>\n",
       "      <th>year</th>\n",
       "      <th>streetaddress</th>\n",
       "      <th>city</th>\n",
       "      <th>state</th>\n",
       "      <th>...</th>\n",
       "      <th>share_hispanic</th>\n",
       "      <th>p_income</th>\n",
       "      <th>h_income</th>\n",
       "      <th>county_income</th>\n",
       "      <th>comp_income</th>\n",
       "      <th>county_bucket</th>\n",
       "      <th>nat_bucket</th>\n",
       "      <th>pov</th>\n",
       "      <th>urate</th>\n",
       "      <th>college</th>\n",
       "    </tr>\n",
       "  </thead>\n",
       "  <tbody>\n",
       "    <tr>\n",
       "      <th>0</th>\n",
       "      <td> A'donte Washington</td>\n",
       "      <td> 16</td>\n",
       "      <td> Male</td>\n",
       "      <td> Black</td>\n",
       "      <td> February</td>\n",
       "      <td> 23</td>\n",
       "      <td> 2015</td>\n",
       "      <td>           Clearview Ln</td>\n",
       "      <td> Millbrook</td>\n",
       "      <td> AL</td>\n",
       "      <td>...</td>\n",
       "      <td>  5.6</td>\n",
       "      <td> 28375</td>\n",
       "      <td> 51367</td>\n",
       "      <td> 54766</td>\n",
       "      <td> 0.937936</td>\n",
       "      <td> 3</td>\n",
       "      <td> 3</td>\n",
       "      <td> 14.1</td>\n",
       "      <td> 0.097686</td>\n",
       "      <td> 0.168510</td>\n",
       "    </tr>\n",
       "    <tr>\n",
       "      <th>1</th>\n",
       "      <td>     Aaron Rutledge</td>\n",
       "      <td> 27</td>\n",
       "      <td> Male</td>\n",
       "      <td> White</td>\n",
       "      <td>    April</td>\n",
       "      <td>  2</td>\n",
       "      <td> 2015</td>\n",
       "      <td> 300 block Iris Park Dr</td>\n",
       "      <td> Pineville</td>\n",
       "      <td> LA</td>\n",
       "      <td>...</td>\n",
       "      <td>  0.5</td>\n",
       "      <td> 14678</td>\n",
       "      <td> 27972</td>\n",
       "      <td> 40930</td>\n",
       "      <td> 0.683411</td>\n",
       "      <td> 2</td>\n",
       "      <td> 1</td>\n",
       "      <td> 28.8</td>\n",
       "      <td> 0.065724</td>\n",
       "      <td> 0.111402</td>\n",
       "    </tr>\n",
       "    <tr>\n",
       "      <th>2</th>\n",
       "      <td>        Aaron Siler</td>\n",
       "      <td> 26</td>\n",
       "      <td> Male</td>\n",
       "      <td> White</td>\n",
       "      <td>    March</td>\n",
       "      <td> 14</td>\n",
       "      <td> 2015</td>\n",
       "      <td>   22nd Ave and 56th St</td>\n",
       "      <td>   Kenosha</td>\n",
       "      <td> WI</td>\n",
       "      <td>...</td>\n",
       "      <td> 16.8</td>\n",
       "      <td> 25286</td>\n",
       "      <td> 45365</td>\n",
       "      <td> 54930</td>\n",
       "      <td> 0.825869</td>\n",
       "      <td> 2</td>\n",
       "      <td> 3</td>\n",
       "      <td> 14.6</td>\n",
       "      <td> 0.166293</td>\n",
       "      <td> 0.147312</td>\n",
       "    </tr>\n",
       "  </tbody>\n",
       "</table>\n",
       "<p>3 rows × 34 columns</p>\n",
       "</div>"
      ],
      "text/plain": [
       "                 name age gender raceethnicity     month  day  year  \\\n",
       "0  A'donte Washington  16   Male         Black  February   23  2015   \n",
       "1      Aaron Rutledge  27   Male         White     April    2  2015   \n",
       "2         Aaron Siler  26   Male         White     March   14  2015   \n",
       "\n",
       "            streetaddress       city state    ...     share_hispanic  \\\n",
       "0            Clearview Ln  Millbrook    AL    ...                5.6   \n",
       "1  300 block Iris Park Dr  Pineville    LA    ...                0.5   \n",
       "2    22nd Ave and 56th St    Kenosha    WI    ...               16.8   \n",
       "\n",
       "   p_income  h_income  county_income  comp_income  county_bucket  nat_bucket  \\\n",
       "0     28375     51367          54766     0.937936              3           3   \n",
       "1     14678     27972          40930     0.683411              2           1   \n",
       "2     25286     45365          54930     0.825869              2           3   \n",
       "\n",
       "    pov     urate   college  \n",
       "0  14.1  0.097686  0.168510  \n",
       "1  28.8  0.065724  0.111402  \n",
       "2  14.6  0.166293  0.147312  \n",
       "\n",
       "[3 rows x 34 columns]"
      ]
     },
     "execution_count": 3,
     "metadata": {},
     "output_type": "execute_result"
    }
   ],
   "source": [
    "police_killings.head(3)"
   ]
  },
  {
   "cell_type": "code",
   "execution_count": 5,
   "metadata": {
    "collapsed": false
   },
   "outputs": [
    {
     "data": {
      "text/html": [
       "<div style=\"max-height:1000px;max-width:1500px;overflow:auto;\">\n",
       "<table border=\"1\" class=\"dataframe\">\n",
       "  <thead>\n",
       "    <tr style=\"text-align: right;\">\n",
       "      <th></th>\n",
       "      <th>day</th>\n",
       "      <th>year</th>\n",
       "      <th>latitude</th>\n",
       "      <th>longitude</th>\n",
       "      <th>state_fp</th>\n",
       "      <th>county_fp</th>\n",
       "      <th>tract_ce</th>\n",
       "      <th>geo_id</th>\n",
       "      <th>county_id</th>\n",
       "      <th>pop</th>\n",
       "      <th>h_income</th>\n",
       "      <th>county_income</th>\n",
       "      <th>comp_income</th>\n",
       "      <th>county_bucket</th>\n",
       "      <th>nat_bucket</th>\n",
       "      <th>urate</th>\n",
       "      <th>college</th>\n",
       "    </tr>\n",
       "  </thead>\n",
       "  <tbody>\n",
       "    <tr>\n",
       "      <th>count</th>\n",
       "      <td> 467.000000</td>\n",
       "      <td>  467</td>\n",
       "      <td> 467.000000</td>\n",
       "      <td> 467.000000</td>\n",
       "      <td> 467.000000</td>\n",
       "      <td> 467.000000</td>\n",
       "      <td>    467.000000</td>\n",
       "      <td> 4.670000e+02</td>\n",
       "      <td>   467.000000</td>\n",
       "      <td>   467.000000</td>\n",
       "      <td>    465.000000</td>\n",
       "      <td>    467.000000</td>\n",
       "      <td> 465.000000</td>\n",
       "      <td> 440.000000</td>\n",
       "      <td> 465.000000</td>\n",
       "      <td> 465.000000</td>\n",
       "      <td> 465.000000</td>\n",
       "    </tr>\n",
       "    <tr>\n",
       "      <th>mean</th>\n",
       "      <td>  15.830835</td>\n",
       "      <td> 2015</td>\n",
       "      <td>  36.403224</td>\n",
       "      <td> -96.972666</td>\n",
       "      <td>  25.342612</td>\n",
       "      <td>  91.584582</td>\n",
       "      <td> 236936.614561</td>\n",
       "      <td> 2.543443e+10</td>\n",
       "      <td> 25434.197002</td>\n",
       "      <td>  4783.719486</td>\n",
       "      <td>  46627.182796</td>\n",
       "      <td>  52527.331906</td>\n",
       "      <td>   0.895913</td>\n",
       "      <td>   2.497727</td>\n",
       "      <td>   2.496774</td>\n",
       "      <td>   0.117399</td>\n",
       "      <td>   0.220217</td>\n",
       "    </tr>\n",
       "    <tr>\n",
       "      <th>std</th>\n",
       "      <td>   8.658970</td>\n",
       "      <td>    0</td>\n",
       "      <td>   5.193357</td>\n",
       "      <td>  16.953842</td>\n",
       "      <td>  16.766458</td>\n",
       "      <td> 110.185129</td>\n",
       "      <td> 341262.721715</td>\n",
       "      <td> 1.680140e+10</td>\n",
       "      <td> 16801.379755</td>\n",
       "      <td>  2374.565749</td>\n",
       "      <td>  20511.194907</td>\n",
       "      <td>  12948.263811</td>\n",
       "      <td>   0.333584</td>\n",
       "      <td>   1.393115</td>\n",
       "      <td>   1.298412</td>\n",
       "      <td>   0.069175</td>\n",
       "      <td>   0.158347</td>\n",
       "    </tr>\n",
       "    <tr>\n",
       "      <th>min</th>\n",
       "      <td>   1.000000</td>\n",
       "      <td> 2015</td>\n",
       "      <td>  19.915194</td>\n",
       "      <td>-159.642700</td>\n",
       "      <td>   1.000000</td>\n",
       "      <td>   1.000000</td>\n",
       "      <td>    100.000000</td>\n",
       "      <td> 1.003010e+09</td>\n",
       "      <td>  1003.000000</td>\n",
       "      <td>     0.000000</td>\n",
       "      <td>  10290.000000</td>\n",
       "      <td>  22545.000000</td>\n",
       "      <td>   0.184049</td>\n",
       "      <td>   1.000000</td>\n",
       "      <td>   1.000000</td>\n",
       "      <td>   0.011335</td>\n",
       "      <td>   0.013547</td>\n",
       "    </tr>\n",
       "    <tr>\n",
       "      <th>25%</th>\n",
       "      <td>   8.000000</td>\n",
       "      <td> 2015</td>\n",
       "      <td>  33.335240</td>\n",
       "      <td>-111.954636</td>\n",
       "      <td>   8.000000</td>\n",
       "      <td>  29.000000</td>\n",
       "      <td>   5201.500000</td>\n",
       "      <td> 8.022008e+09</td>\n",
       "      <td>  8022.000000</td>\n",
       "      <td>  3357.500000</td>\n",
       "      <td>  32625.000000</td>\n",
       "      <td>  43804.000000</td>\n",
       "      <td>   0.645365</td>\n",
       "      <td>   1.000000</td>\n",
       "      <td>   1.000000</td>\n",
       "      <td>   0.068592</td>\n",
       "      <td>   0.106167</td>\n",
       "    </tr>\n",
       "    <tr>\n",
       "      <th>50%</th>\n",
       "      <td>  16.000000</td>\n",
       "      <td> 2015</td>\n",
       "      <td>  35.769779</td>\n",
       "      <td> -94.761902</td>\n",
       "      <td>  24.000000</td>\n",
       "      <td>  63.000000</td>\n",
       "      <td>  40200.000000</td>\n",
       "      <td> 2.403380e+10</td>\n",
       "      <td> 24033.000000</td>\n",
       "      <td>  4447.000000</td>\n",
       "      <td>  42759.000000</td>\n",
       "      <td>  50856.000000</td>\n",
       "      <td>   0.869612</td>\n",
       "      <td>   2.000000</td>\n",
       "      <td>   2.000000</td>\n",
       "      <td>   0.105181</td>\n",
       "      <td>   0.169544</td>\n",
       "    </tr>\n",
       "    <tr>\n",
       "      <th>75%</th>\n",
       "      <td>  23.000000</td>\n",
       "      <td> 2015</td>\n",
       "      <td>  39.937452</td>\n",
       "      <td> -82.961582</td>\n",
       "      <td>  40.000000</td>\n",
       "      <td> 111.000000</td>\n",
       "      <td> 378450.000000</td>\n",
       "      <td> 4.011247e+10</td>\n",
       "      <td> 40112.000000</td>\n",
       "      <td>  5815.500000</td>\n",
       "      <td>  56190.000000</td>\n",
       "      <td>  56832.000000</td>\n",
       "      <td>   1.081454</td>\n",
       "      <td>   4.000000</td>\n",
       "      <td>   3.000000</td>\n",
       "      <td>   0.140833</td>\n",
       "      <td>   0.284542</td>\n",
       "    </tr>\n",
       "    <tr>\n",
       "      <th>max</th>\n",
       "      <td>  31.000000</td>\n",
       "      <td> 2015</td>\n",
       "      <td>  61.218408</td>\n",
       "      <td> -68.100007</td>\n",
       "      <td>  56.000000</td>\n",
       "      <td> 740.000000</td>\n",
       "      <td> 980000.000000</td>\n",
       "      <td> 5.600500e+10</td>\n",
       "      <td> 56005.000000</td>\n",
       "      <td> 26826.000000</td>\n",
       "      <td> 142500.000000</td>\n",
       "      <td> 110292.000000</td>\n",
       "      <td>   2.865216</td>\n",
       "      <td>   5.000000</td>\n",
       "      <td>   5.000000</td>\n",
       "      <td>   0.507614</td>\n",
       "      <td>   0.828070</td>\n",
       "    </tr>\n",
       "  </tbody>\n",
       "</table>\n",
       "</div>"
      ],
      "text/plain": [
       "              day  year    latitude   longitude    state_fp   county_fp  \\\n",
       "count  467.000000   467  467.000000  467.000000  467.000000  467.000000   \n",
       "mean    15.830835  2015   36.403224  -96.972666   25.342612   91.584582   \n",
       "std      8.658970     0    5.193357   16.953842   16.766458  110.185129   \n",
       "min      1.000000  2015   19.915194 -159.642700    1.000000    1.000000   \n",
       "25%      8.000000  2015   33.335240 -111.954636    8.000000   29.000000   \n",
       "50%     16.000000  2015   35.769779  -94.761902   24.000000   63.000000   \n",
       "75%     23.000000  2015   39.937452  -82.961582   40.000000  111.000000   \n",
       "max     31.000000  2015   61.218408  -68.100007   56.000000  740.000000   \n",
       "\n",
       "            tract_ce        geo_id     county_id           pop       h_income  \\\n",
       "count     467.000000  4.670000e+02    467.000000    467.000000     465.000000   \n",
       "mean   236936.614561  2.543443e+10  25434.197002   4783.719486   46627.182796   \n",
       "std    341262.721715  1.680140e+10  16801.379755   2374.565749   20511.194907   \n",
       "min       100.000000  1.003010e+09   1003.000000      0.000000   10290.000000   \n",
       "25%      5201.500000  8.022008e+09   8022.000000   3357.500000   32625.000000   \n",
       "50%     40200.000000  2.403380e+10  24033.000000   4447.000000   42759.000000   \n",
       "75%    378450.000000  4.011247e+10  40112.000000   5815.500000   56190.000000   \n",
       "max    980000.000000  5.600500e+10  56005.000000  26826.000000  142500.000000   \n",
       "\n",
       "       county_income  comp_income  county_bucket  nat_bucket       urate  \\\n",
       "count     467.000000   465.000000     440.000000  465.000000  465.000000   \n",
       "mean    52527.331906     0.895913       2.497727    2.496774    0.117399   \n",
       "std     12948.263811     0.333584       1.393115    1.298412    0.069175   \n",
       "min     22545.000000     0.184049       1.000000    1.000000    0.011335   \n",
       "25%     43804.000000     0.645365       1.000000    1.000000    0.068592   \n",
       "50%     50856.000000     0.869612       2.000000    2.000000    0.105181   \n",
       "75%     56832.000000     1.081454       4.000000    3.000000    0.140833   \n",
       "max    110292.000000     2.865216       5.000000    5.000000    0.507614   \n",
       "\n",
       "          college  \n",
       "count  465.000000  \n",
       "mean     0.220217  \n",
       "std      0.158347  \n",
       "min      0.013547  \n",
       "25%      0.106167  \n",
       "50%      0.169544  \n",
       "75%      0.284542  \n",
       "max      0.828070  "
      ]
     },
     "execution_count": 5,
     "metadata": {},
     "output_type": "execute_result"
    }
   ],
   "source": [
    "police_killings.describe()"
   ]
  },
  {
   "cell_type": "code",
   "execution_count": 6,
   "metadata": {
    "collapsed": false
   },
   "outputs": [
    {
     "data": {
      "text/plain": [
       "(467, 34)"
      ]
     },
     "execution_count": 6,
     "metadata": {},
     "output_type": "execute_result"
    }
   ],
   "source": [
    "police_killings.shape"
   ]
  },
  {
   "cell_type": "code",
   "execution_count": 7,
   "metadata": {
    "collapsed": false
   },
   "outputs": [
    {
     "data": {
      "text/plain": [
       "White                     236\n",
       "Black                     135\n",
       "Hispanic/Latino            67\n",
       "Unknown                    15\n",
       "Asian/Pacific Islander     10\n",
       "Native American             4\n",
       "dtype: int64"
      ]
     },
     "execution_count": 7,
     "metadata": {},
     "output_type": "execute_result"
    }
   ],
   "source": [
    "# Checking how many people of each race were killed\n",
    "police_killings['raceethnicity'].value_counts()"
   ]
  },
  {
   "cell_type": "code",
   "execution_count": 9,
   "metadata": {
    "collapsed": false
   },
   "outputs": [],
   "source": [
    "%matplotlib inline"
   ]
  },
  {
   "cell_type": "code",
   "execution_count": 11,
   "metadata": {
    "collapsed": false
   },
   "outputs": [
    {
     "data": {
      "text/plain": [
       "<matplotlib.axes._subplots.AxesSubplot at 0x7fcf0b62ddd8>"
      ]
     },
     "execution_count": 11,
     "metadata": {},
     "output_type": "execute_result"
    },
    {
     "data": {
      "image/png": "[encoded data removed]",
      "text/plain": [
       "<matplotlib.figure.Figure at 0x7fcf0b62d550>"
      ]
     },
     "metadata": {},
     "output_type": "display_data"
    }
   ],
   "source": [
    "police_killings['raceethnicity'].value_counts().plot(kind='bar')"
   ]
  },
  {
   "cell_type": "markdown",
   "metadata": {},
   "source": [
    "# The majority of killings are white, but that would be expected, since the population of that US is majority white. What would be more interesting is whether the percentage of killings for each race matches up with the percentage of the population for that race."
   ]
  },
  {
   "cell_type": "code",
   "execution_count": 12,
   "metadata": {
    "collapsed": true
   },
   "outputs": [],
   "source": [
    "killings_perc_df = pd.DataFrame(police_killings['raceethnicity'].value_counts())"
   ]
  },
  {
   "cell_type": "code",
   "execution_count": 14,
   "metadata": {
    "collapsed": false
   },
   "outputs": [
    {
     "data": {
      "text/plain": [
       "White                     236\n",
       "Black                     135\n",
       "Hispanic/Latino            67\n",
       "Unknown                    15\n",
       "Asian/Pacific Islander     10\n",
       "Native American             4\n",
       "Name: 0, dtype: int64"
      ]
     },
     "execution_count": 14,
     "metadata": {},
     "output_type": "execute_result"
    }
   ],
   "source": [
    "killings_perc_df[0]"
   ]
  },
  {
   "cell_type": "code",
   "execution_count": 17,
   "metadata": {
    "collapsed": false
   },
   "outputs": [],
   "source": [
    "killings_perc_df = killings_perc_df.rename(columns={0:'totals'})"
   ]
  },
  {
   "cell_type": "code",
   "execution_count": 21,
   "metadata": {
    "collapsed": false
   },
   "outputs": [],
   "source": [
    "killings_perc_df['Proportion (%)'] = 100 * killings_perc_df['totals'] / killings_perc_df['totals'].sum()"
   ]
  },
  {
   "cell_type": "code",
   "execution_count": 22,
   "metadata": {
    "collapsed": false
   },
   "outputs": [
    {
     "data": {
      "text/html": [
       "<div style=\"max-height:1000px;max-width:1500px;overflow:auto;\">\n",
       "<table border=\"1\" class=\"dataframe\">\n",
       "  <thead>\n",
       "    <tr style=\"text-align: right;\">\n",
       "      <th></th>\n",
       "      <th>totals</th>\n",
       "      <th>Proportion (%)</th>\n",
       "    </tr>\n",
       "  </thead>\n",
       "  <tbody>\n",
       "    <tr>\n",
       "      <th>White</th>\n",
       "      <td> 236</td>\n",
       "      <td> 50.535332</td>\n",
       "    </tr>\n",
       "    <tr>\n",
       "      <th>Black</th>\n",
       "      <td> 135</td>\n",
       "      <td> 28.907923</td>\n",
       "    </tr>\n",
       "    <tr>\n",
       "      <th>Hispanic/Latino</th>\n",
       "      <td>  67</td>\n",
       "      <td> 14.346895</td>\n",
       "    </tr>\n",
       "    <tr>\n",
       "      <th>Unknown</th>\n",
       "      <td>  15</td>\n",
       "      <td>  3.211991</td>\n",
       "    </tr>\n",
       "    <tr>\n",
       "      <th>Asian/Pacific Islander</th>\n",
       "      <td>  10</td>\n",
       "      <td>  2.141328</td>\n",
       "    </tr>\n",
       "    <tr>\n",
       "      <th>Native American</th>\n",
       "      <td>   4</td>\n",
       "      <td>  0.856531</td>\n",
       "    </tr>\n",
       "  </tbody>\n",
       "</table>\n",
       "</div>"
      ],
      "text/plain": [
       "                        totals  Proportion (%)\n",
       "White                      236       50.535332\n",
       "Black                      135       28.907923\n",
       "Hispanic/Latino             67       14.346895\n",
       "Unknown                     15        3.211991\n",
       "Asian/Pacific Islander      10        2.141328\n",
       "Native American              4        0.856531"
      ]
     },
     "execution_count": 22,
     "metadata": {},
     "output_type": "execute_result"
    }
   ],
   "source": [
    "killings_perc_df"
   ]
  },
  {
   "cell_type": "code",
   "execution_count": 23,
   "metadata": {
    "collapsed": true
   },
   "outputs": [],
   "source": [
    "us_race_demographics = [61.6, 13.3, 16.3, 1.8, 5.8, 1.2]"
   ]
  },
  {
   "cell_type": "code",
   "execution_count": 24,
   "metadata": {
    "collapsed": true
   },
   "outputs": [],
   "source": [
    "killings_perc_df['US Demographics (%)'] = us_race_demographics"
   ]
  },
  {
   "cell_type": "code",
   "execution_count": 25,
   "metadata": {
    "collapsed": false
   },
   "outputs": [
    {
     "data": {
      "text/html": [
       "<div style=\"max-height:1000px;max-width:1500px;overflow:auto;\">\n",
       "<table border=\"1\" class=\"dataframe\">\n",
       "  <thead>\n",
       "    <tr style=\"text-align: right;\">\n",
       "      <th></th>\n",
       "      <th>totals</th>\n",
       "      <th>Proportion (%)</th>\n",
       "      <th>US Demographics (%)</th>\n",
       "    </tr>\n",
       "  </thead>\n",
       "  <tbody>\n",
       "    <tr>\n",
       "      <th>White</th>\n",
       "      <td> 236</td>\n",
       "      <td> 50.535332</td>\n",
       "      <td> 61.6</td>\n",
       "    </tr>\n",
       "    <tr>\n",
       "      <th>Black</th>\n",
       "      <td> 135</td>\n",
       "      <td> 28.907923</td>\n",
       "      <td> 13.3</td>\n",
       "    </tr>\n",
       "    <tr>\n",
       "      <th>Hispanic/Latino</th>\n",
       "      <td>  67</td>\n",
       "      <td> 14.346895</td>\n",
       "      <td> 16.3</td>\n",
       "    </tr>\n",
       "    <tr>\n",
       "      <th>Unknown</th>\n",
       "      <td>  15</td>\n",
       "      <td>  3.211991</td>\n",
       "      <td>  1.8</td>\n",
       "    </tr>\n",
       "    <tr>\n",
       "      <th>Asian/Pacific Islander</th>\n",
       "      <td>  10</td>\n",
       "      <td>  2.141328</td>\n",
       "      <td>  5.8</td>\n",
       "    </tr>\n",
       "    <tr>\n",
       "      <th>Native American</th>\n",
       "      <td>   4</td>\n",
       "      <td>  0.856531</td>\n",
       "      <td>  1.2</td>\n",
       "    </tr>\n",
       "  </tbody>\n",
       "</table>\n",
       "</div>"
      ],
      "text/plain": [
       "                        totals  Proportion (%)  US Demographics (%)\n",
       "White                      236       50.535332                 61.6\n",
       "Black                      135       28.907923                 13.3\n",
       "Hispanic/Latino             67       14.346895                 16.3\n",
       "Unknown                     15        3.211991                  1.8\n",
       "Asian/Pacific Islander      10        2.141328                  5.8\n",
       "Native American              4        0.856531                  1.2"
      ]
     },
     "execution_count": 25,
     "metadata": {},
     "output_type": "execute_result"
    }
   ],
   "source": [
    "killings_perc_df"
   ]
  },
  {
   "cell_type": "code",
   "execution_count": 26,
   "metadata": {
    "collapsed": false
   },
   "outputs": [
    {
     "data": {
      "text/plain": [
       "<matplotlib.axes._subplots.AxesSubplot at 0x7fcf0b648ac8>"
      ]
     },
     "execution_count": 26,
     "metadata": {},
     "output_type": "execute_result"
    },
    {
     "data": {
      "image/png": "[encoded data removed]",
      "text/plain": [
       "<matplotlib.figure.Figure at 0x7fcf0b64b978>"
      ]
     },
     "metadata": {},
     "output_type": "display_data"
    }
   ],
   "source": [
    "killings_perc_df[['Proportion (%)', 'US Demographics (%)']].plot(kind='bar')"
   ]
  },
  {
   "cell_type": "markdown",
   "metadata": {},
   "source": [
    "# This picture is different. Clearly blacks are getting killed at a much higher rate than their proportion of US population (almost twice)"
   ]
  },
  {
   "cell_type": "code",
   "execution_count": 34,
   "metadata": {
    "collapsed": false
   },
   "outputs": [
    {
     "data": {
      "text/plain": [
       "22969    3\n",
       "16415    2\n",
       "15373    2\n",
       "17632    2\n",
       "16558    2\n",
       "14256    2\n",
       "37476    2\n",
       "31009    2\n",
       "19921    2\n",
       "23243    2\n",
       "-        2\n",
       "16953    2\n",
       "28125    2\n",
       "21130    2\n",
       "18363    1\n",
       "...\n",
       "15656    1\n",
       "32211    1\n",
       "20995    1\n",
       "22734    1\n",
       "17223    1\n",
       "24749    1\n",
       "22255    1\n",
       "11656    1\n",
       "32142    1\n",
       "51071    1\n",
       "17696    1\n",
       "22947    1\n",
       "18978    1\n",
       "25865    1\n",
       "15488    1\n",
       "Length: 452, dtype: int64"
      ]
     },
     "execution_count": 34,
     "metadata": {},
     "output_type": "execute_result"
    }
   ],
   "source": [
    "import numpy as np\n",
    "police_killings['p_income'].value_counts()"
   ]
  },
  {
   "cell_type": "markdown",
   "metadata": {},
   "source": [
    "Seems like there is a non-numeric value \"-\""
   ]
  },
  {
   "cell_type": "code",
   "execution_count": 38,
   "metadata": {
    "collapsed": false
   },
   "outputs": [],
   "source": [
    "# Let's make a new column\n",
    "police_killings['income'] = police_killings[police_killings['p_income'] != '-']['p_income'].astype(float)"
   ]
  },
  {
   "cell_type": "markdown",
   "metadata": {},
   "source": [
    "Let's see the distribution of income"
   ]
  },
  {
   "cell_type": "code",
   "execution_count": 40,
   "metadata": {
    "collapsed": false
   },
   "outputs": [
    {
     "data": {
      "text/plain": [
       "<matplotlib.axes._subplots.AxesSubplot at 0x7fcf0b48a748>"
      ]
     },
     "execution_count": 40,
     "metadata": {},
     "output_type": "execute_result"
    },
    {
     "data": {
      "image/png": "[encoded data removed]",
      "text/plain": [
       "<matplotlib.figure.Figure at 0x7fcf0b48a550>"
      ]
     },
     "metadata": {},
     "output_type": "display_data"
    }
   ],
   "source": [
    "police_killings['income'].hist()"
   ]
  },
  {
   "cell_type": "markdown",
   "metadata": {},
   "source": [
    "This looks like the median income is around 20-30K, which suggests most killings in this database occur in poorer areas. Median houshold income in the US was around 56K in 2015"
   ]
  },
  {
   "cell_type": "markdown",
   "metadata": {},
   "source": [
    "Next, let's look at breakdowns of shootings by region"
   ]
  },
  {
   "cell_type": "code",
   "execution_count": 41,
   "metadata": {
    "collapsed": false
   },
   "outputs": [
    {
     "data": {
      "text/plain": [
       "0      1\n",
       "1     22\n",
       "2     55\n",
       "3      6\n",
       "4     39\n",
       "5      4\n",
       "6      6\n",
       "7      6\n",
       "8     48\n",
       "9     26\n",
       "10     6\n",
       "11     6\n",
       "12    48\n",
       "13    18\n",
       "14    18\n",
       "...\n",
       "452    48\n",
       "453    48\n",
       "454     6\n",
       "455    36\n",
       "456    51\n",
       "457    45\n",
       "458    48\n",
       "459    48\n",
       "460     1\n",
       "461    34\n",
       "462    51\n",
       "463    53\n",
       "464    37\n",
       "465     6\n",
       "466     6\n",
       "Name: state_fp, Length: 467, dtype: int64"
      ]
     },
     "execution_count": 41,
     "metadata": {},
     "output_type": "execute_result"
    }
   ],
   "source": [
    "police_killings['state_fp']"
   ]
  },
  {
   "cell_type": "code",
   "execution_count": 42,
   "metadata": {
    "collapsed": true
   },
   "outputs": [],
   "source": [
    "# Get population by state from the Census bureau\n",
    "state_pop = pd.read_csv('state_population.csv')"
   ]
  },
  {
   "cell_type": "code",
   "execution_count": 44,
   "metadata": {
    "collapsed": true
   },
   "outputs": [],
   "source": [
    "# Count of killings by state\n",
    "counts = police_killings['state_fp'].value_counts()"
   ]
  },
  {
   "cell_type": "code",
   "execution_count": 45,
   "metadata": {
    "collapsed": true
   },
   "outputs": [],
   "source": [
    "# Merge the two\n",
    "states = pd.DataFrame({'STATE': counts.index, 'shootings': counts})"
   ]
  },
  {
   "cell_type": "code",
   "execution_count": 46,
   "metadata": {
    "collapsed": true
   },
   "outputs": [],
   "source": [
    "states = states.merge(state_pop, on='STATE')"
   ]
  },
  {
   "cell_type": "code",
   "execution_count": 47,
   "metadata": {
    "collapsed": false
   },
   "outputs": [
    {
     "data": {
      "text/html": [
       "<div style=\"max-height:1000px;max-width:1500px;overflow:auto;\">\n",
       "<table border=\"1\" class=\"dataframe\">\n",
       "  <thead>\n",
       "    <tr style=\"text-align: right;\">\n",
       "      <th></th>\n",
       "      <th>STATE</th>\n",
       "      <th>shootings</th>\n",
       "      <th>SUMLEV</th>\n",
       "      <th>REGION</th>\n",
       "      <th>DIVISION</th>\n",
       "      <th>NAME</th>\n",
       "      <th>POPESTIMATE2015</th>\n",
       "      <th>POPEST18PLUS2015</th>\n",
       "      <th>PCNT_POPEST18PLUS</th>\n",
       "    </tr>\n",
       "  </thead>\n",
       "  <tbody>\n",
       "    <tr>\n",
       "      <th>0</th>\n",
       "      <td>  6</td>\n",
       "      <td> 74</td>\n",
       "      <td> 40</td>\n",
       "      <td> 4</td>\n",
       "      <td> 9</td>\n",
       "      <td> California</td>\n",
       "      <td> 39144818</td>\n",
       "      <td> 30023902</td>\n",
       "      <td> 76.7</td>\n",
       "    </tr>\n",
       "    <tr>\n",
       "      <th>1</th>\n",
       "      <td> 48</td>\n",
       "      <td> 47</td>\n",
       "      <td> 40</td>\n",
       "      <td> 3</td>\n",
       "      <td> 7</td>\n",
       "      <td>      Texas</td>\n",
       "      <td> 27469114</td>\n",
       "      <td> 20257343</td>\n",
       "      <td> 73.7</td>\n",
       "    </tr>\n",
       "    <tr>\n",
       "      <th>2</th>\n",
       "      <td> 12</td>\n",
       "      <td> 29</td>\n",
       "      <td> 40</td>\n",
       "      <td> 3</td>\n",
       "      <td> 5</td>\n",
       "      <td>    Florida</td>\n",
       "      <td> 20271272</td>\n",
       "      <td> 16166143</td>\n",
       "      <td> 79.7</td>\n",
       "    </tr>\n",
       "    <tr>\n",
       "      <th>3</th>\n",
       "      <td>  4</td>\n",
       "      <td> 25</td>\n",
       "      <td> 40</td>\n",
       "      <td> 4</td>\n",
       "      <td> 8</td>\n",
       "      <td>    Arizona</td>\n",
       "      <td>  6828065</td>\n",
       "      <td>  5205215</td>\n",
       "      <td> 76.2</td>\n",
       "    </tr>\n",
       "  </tbody>\n",
       "</table>\n",
       "</div>"
      ],
      "text/plain": [
       "   STATE  shootings  SUMLEV REGION DIVISION        NAME  POPESTIMATE2015  \\\n",
       "0      6         74      40      4        9  California         39144818   \n",
       "1     48         47      40      3        7       Texas         27469114   \n",
       "2     12         29      40      3        5     Florida         20271272   \n",
       "3      4         25      40      4        8     Arizona          6828065   \n",
       "\n",
       "   POPEST18PLUS2015  PCNT_POPEST18PLUS  \n",
       "0          30023902               76.7  \n",
       "1          20257343               73.7  \n",
       "2          16166143               79.7  \n",
       "3           5205215               76.2  "
      ]
     },
     "execution_count": 47,
     "metadata": {},
     "output_type": "execute_result"
    }
   ],
   "source": [
    "states.head(4)"
   ]
  },
  {
   "cell_type": "code",
   "execution_count": 50,
   "metadata": {
    "collapsed": true
   },
   "outputs": [],
   "source": [
    "# Get population in millions\n",
    "states['pop_millions'] = states['POPESTIMATE2015'] / 1000000"
   ]
  },
  {
   "cell_type": "code",
   "execution_count": 51,
   "metadata": {
    "collapsed": false
   },
   "outputs": [
    {
     "data": {
      "text/plain": [
       "0    39.144818\n",
       "1    27.469114\n",
       "2    20.271272\n",
       "3     6.828065\n",
       "4     3.911338\n",
       "5    10.214860\n",
       "6    19.795791\n",
       "7     5.456574\n",
       "8     8.958013\n",
       "9     7.170351\n",
       "Name: pop_millions, dtype: float64"
      ]
     },
     "execution_count": 51,
     "metadata": {},
     "output_type": "execute_result"
    }
   ],
   "source": [
    "states['pop_millions'].head(10)"
   ]
  },
  {
   "cell_type": "code",
   "execution_count": 52,
   "metadata": {
    "collapsed": true
   },
   "outputs": [],
   "source": [
    "# Get rate of shootings by population\n",
    "states['rate'] = states['shootings'] / states['pop_millions']"
   ]
  },
  {
   "cell_type": "code",
   "execution_count": 58,
   "metadata": {
    "collapsed": false
   },
   "outputs": [
    {
     "data": {
      "text/html": [
       "<div style=\"max-height:1000px;max-width:1500px;overflow:auto;\">\n",
       "<table border=\"1\" class=\"dataframe\">\n",
       "  <thead>\n",
       "    <tr style=\"text-align: right;\">\n",
       "      <th></th>\n",
       "      <th>NAME</th>\n",
       "      <th>rate</th>\n",
       "    </tr>\n",
       "  </thead>\n",
       "  <tbody>\n",
       "    <tr>\n",
       "      <th>4 </th>\n",
       "      <td>             Oklahoma</td>\n",
       "      <td> 5.624674</td>\n",
       "    </tr>\n",
       "    <tr>\n",
       "      <th>3 </th>\n",
       "      <td>              Arizona</td>\n",
       "      <td> 3.661359</td>\n",
       "    </tr>\n",
       "    <tr>\n",
       "      <th>27</th>\n",
       "      <td>             Nebraska</td>\n",
       "      <td> 3.164240</td>\n",
       "    </tr>\n",
       "    <tr>\n",
       "      <th>34</th>\n",
       "      <td>               Hawaii</td>\n",
       "      <td> 2.794071</td>\n",
       "    </tr>\n",
       "    <tr>\n",
       "      <th>39</th>\n",
       "      <td>               Alaska</td>\n",
       "      <td> 2.708442</td>\n",
       "    </tr>\n",
       "    <tr>\n",
       "      <th>33</th>\n",
       "      <td>                Idaho</td>\n",
       "      <td> 2.417021</td>\n",
       "    </tr>\n",
       "    <tr>\n",
       "      <th>32</th>\n",
       "      <td>           New Mexico</td>\n",
       "      <td> 2.397956</td>\n",
       "    </tr>\n",
       "    <tr>\n",
       "      <th>10</th>\n",
       "      <td>            Louisiana</td>\n",
       "      <td> 2.355095</td>\n",
       "    </tr>\n",
       "    <tr>\n",
       "      <th>7 </th>\n",
       "      <td>             Colorado</td>\n",
       "      <td> 2.199182</td>\n",
       "    </tr>\n",
       "    <tr>\n",
       "      <th>41</th>\n",
       "      <td>             Delaware</td>\n",
       "      <td> 2.114312</td>\n",
       "    </tr>\n",
       "    <tr>\n",
       "      <th>24</th>\n",
       "      <td>               Kansas</td>\n",
       "      <td> 2.060694</td>\n",
       "    </tr>\n",
       "    <tr>\n",
       "      <th>26</th>\n",
       "      <td>          Mississippi</td>\n",
       "      <td> 2.005124</td>\n",
       "    </tr>\n",
       "    <tr>\n",
       "      <th>19</th>\n",
       "      <td>               Oregon</td>\n",
       "      <td> 1.985616</td>\n",
       "    </tr>\n",
       "    <tr>\n",
       "      <th>37</th>\n",
       "      <td>              Montana</td>\n",
       "      <td> 1.936204</td>\n",
       "    </tr>\n",
       "    <tr>\n",
       "      <th>0 </th>\n",
       "      <td>           California</td>\n",
       "      <td> 1.890416</td>\n",
       "    </tr>\n",
       "    <tr>\n",
       "      <th>17</th>\n",
       "      <td>       South Carolina</td>\n",
       "      <td> 1.838180</td>\n",
       "    </tr>\n",
       "    <tr>\n",
       "      <th>1 </th>\n",
       "      <td>                Texas</td>\n",
       "      <td> 1.711013</td>\n",
       "    </tr>\n",
       "    <tr>\n",
       "      <th>46</th>\n",
       "      <td>              Wyoming</td>\n",
       "      <td> 1.706173</td>\n",
       "    </tr>\n",
       "    <tr>\n",
       "      <th>30</th>\n",
       "      <td>                 Utah</td>\n",
       "      <td> 1.668937</td>\n",
       "    </tr>\n",
       "    <tr>\n",
       "      <th>14</th>\n",
       "      <td>             Maryland</td>\n",
       "      <td> 1.664891</td>\n",
       "    </tr>\n",
       "    <tr>\n",
       "      <th>21</th>\n",
       "      <td>              Alabama</td>\n",
       "      <td> 1.646436</td>\n",
       "    </tr>\n",
       "    <tr>\n",
       "      <th>13</th>\n",
       "      <td>             Missouri</td>\n",
       "      <td> 1.643744</td>\n",
       "    </tr>\n",
       "    <tr>\n",
       "      <th>23</th>\n",
       "      <td>             Kentucky</td>\n",
       "      <td> 1.581888</td>\n",
       "    </tr>\n",
       "    <tr>\n",
       "      <th>5 </th>\n",
       "      <td>              Georgia</td>\n",
       "      <td> 1.566346</td>\n",
       "    </tr>\n",
       "    <tr>\n",
       "      <th>9 </th>\n",
       "      <td>           Washington</td>\n",
       "      <td> 1.534095</td>\n",
       "    </tr>\n",
       "    <tr>\n",
       "      <th>44</th>\n",
       "      <td> District of Columbia</td>\n",
       "      <td> 1.487591</td>\n",
       "    </tr>\n",
       "    <tr>\n",
       "      <th>2 </th>\n",
       "      <td>              Florida</td>\n",
       "      <td> 1.430596</td>\n",
       "    </tr>\n",
       "    <tr>\n",
       "      <th>35</th>\n",
       "      <td>             Arkansas</td>\n",
       "      <td> 1.343091</td>\n",
       "    </tr>\n",
       "    <tr>\n",
       "      <th>8 </th>\n",
       "      <td>           New Jersey</td>\n",
       "      <td> 1.227951</td>\n",
       "    </tr>\n",
       "    <tr>\n",
       "      <th>20</th>\n",
       "      <td>              Indiana</td>\n",
       "      <td> 1.208518</td>\n",
       "    </tr>\n",
       "    <tr>\n",
       "      <th>25</th>\n",
       "      <td>            Minnesota</td>\n",
       "      <td> 1.092977</td>\n",
       "    </tr>\n",
       "    <tr>\n",
       "      <th>40</th>\n",
       "      <td>        West Virginia</td>\n",
       "      <td> 1.084523</td>\n",
       "    </tr>\n",
       "    <tr>\n",
       "      <th>18</th>\n",
       "      <td>             Virginia</td>\n",
       "      <td> 1.073602</td>\n",
       "    </tr>\n",
       "    <tr>\n",
       "      <th>36</th>\n",
       "      <td>               Nevada</td>\n",
       "      <td> 1.037759</td>\n",
       "    </tr>\n",
       "    <tr>\n",
       "      <th>15</th>\n",
       "      <td>       North Carolina</td>\n",
       "      <td> 0.995738</td>\n",
       "    </tr>\n",
       "    <tr>\n",
       "      <th>28</th>\n",
       "      <td>            Tennessee</td>\n",
       "      <td> 0.909050</td>\n",
       "    </tr>\n",
       "    <tr>\n",
       "      <th>16</th>\n",
       "      <td>             Michigan</td>\n",
       "      <td> 0.907023</td>\n",
       "    </tr>\n",
       "    <tr>\n",
       "      <th>31</th>\n",
       "      <td>            Wisconsin</td>\n",
       "      <td> 0.866350</td>\n",
       "    </tr>\n",
       "    <tr>\n",
       "      <th>12</th>\n",
       "      <td>                 Ohio</td>\n",
       "      <td> 0.861073</td>\n",
       "    </tr>\n",
       "    <tr>\n",
       "      <th>11</th>\n",
       "      <td>             Illinois</td>\n",
       "      <td> 0.855366</td>\n",
       "    </tr>\n",
       "    <tr>\n",
       "      <th>45</th>\n",
       "      <td>                Maine</td>\n",
       "      <td> 0.752260</td>\n",
       "    </tr>\n",
       "    <tr>\n",
       "      <th>42</th>\n",
       "      <td>        New Hampshire</td>\n",
       "      <td> 0.751536</td>\n",
       "    </tr>\n",
       "    <tr>\n",
       "      <th>29</th>\n",
       "      <td>        Massachusetts</td>\n",
       "      <td> 0.735898</td>\n",
       "    </tr>\n",
       "    <tr>\n",
       "      <th>6 </th>\n",
       "      <td>             New York</td>\n",
       "      <td> 0.656705</td>\n",
       "    </tr>\n",
       "    <tr>\n",
       "      <th>38</th>\n",
       "      <td>                 Iowa</td>\n",
       "      <td> 0.640226</td>\n",
       "    </tr>\n",
       "    <tr>\n",
       "      <th>22</th>\n",
       "      <td>         Pennsylvania</td>\n",
       "      <td> 0.546768</td>\n",
       "    </tr>\n",
       "    <tr>\n",
       "      <th>43</th>\n",
       "      <td>          Connecticut</td>\n",
       "      <td> 0.278483</td>\n",
       "    </tr>\n",
       "  </tbody>\n",
       "</table>\n",
       "</div>"
      ],
      "text/plain": [
       "                    NAME      rate\n",
       "4               Oklahoma  5.624674\n",
       "3                Arizona  3.661359\n",
       "27              Nebraska  3.164240\n",
       "34                Hawaii  2.794071\n",
       "39                Alaska  2.708442\n",
       "33                 Idaho  2.417021\n",
       "32            New Mexico  2.397956\n",
       "10             Louisiana  2.355095\n",
       "7               Colorado  2.199182\n",
       "41              Delaware  2.114312\n",
       "24                Kansas  2.060694\n",
       "26           Mississippi  2.005124\n",
       "19                Oregon  1.985616\n",
       "37               Montana  1.936204\n",
       "0             California  1.890416\n",
       "17        South Carolina  1.838180\n",
       "1                  Texas  1.711013\n",
       "46               Wyoming  1.706173\n",
       "30                  Utah  1.668937\n",
       "14              Maryland  1.664891\n",
       "21               Alabama  1.646436\n",
       "13              Missouri  1.643744\n",
       "23              Kentucky  1.581888\n",
       "5                Georgia  1.566346\n",
       "9             Washington  1.534095\n",
       "44  District of Columbia  1.487591\n",
       "2                Florida  1.430596\n",
       "35              Arkansas  1.343091\n",
       "8             New Jersey  1.227951\n",
       "20               Indiana  1.208518\n",
       "25             Minnesota  1.092977\n",
       "40         West Virginia  1.084523\n",
       "18              Virginia  1.073602\n",
       "36                Nevada  1.037759\n",
       "15        North Carolina  0.995738\n",
       "28             Tennessee  0.909050\n",
       "16              Michigan  0.907023\n",
       "31             Wisconsin  0.866350\n",
       "12                  Ohio  0.861073\n",
       "11              Illinois  0.855366\n",
       "45                 Maine  0.752260\n",
       "42         New Hampshire  0.751536\n",
       "29         Massachusetts  0.735898\n",
       "6               New York  0.656705\n",
       "38                  Iowa  0.640226\n",
       "22          Pennsylvania  0.546768\n",
       "43           Connecticut  0.278483"
      ]
     },
     "execution_count": 58,
     "metadata": {},
     "output_type": "execute_result"
    }
   ],
   "source": [
    "states[['NAME', 'rate']].sort('rate', ascending=False)"
   ]
  },
  {
   "cell_type": "markdown",
   "metadata": {},
   "source": [
    "The state with the highest rate of shootings per population by far is Oklahoma, the lowest rate belongs to Connecticut. "
   ]
  },
  {
   "cell_type": "markdown",
   "metadata": {},
   "source": [
    "In general, affluent states seem to have lower shooting rate than poor ones."
   ]
  },
  {
   "cell_type": "code",
   "execution_count": 84,
   "metadata": {
    "collapsed": false
   },
   "outputs": [],
   "source": [
    "pk = police_killings[(police_killings['share_white'] != '-') \\\n",
    "                     & (police_killings['share_black'] != '-') \\\n",
    "                    & (police_killings['share_hispanic'] != '-')]"
   ]
  },
  {
   "cell_type": "code",
   "execution_count": 87,
   "metadata": {
    "collapsed": false
   },
   "outputs": [
    {
     "name": "stderr",
     "output_type": "stream",
     "text": [
      "/opt/dsserver/lib/python3.4/site-packages/ipykernel/__main__.py:1: SettingWithCopyWarning: \n",
      "A value is trying to be set on a copy of a slice from a DataFrame.\n",
      "Try using .loc[row_indexer,col_indexer] = value instead\n",
      "\n",
      "See the the caveats in the documentation: http://pandas.pydata.org/pandas-docs/stable/indexing.html#indexing-view-versus-copy\n",
      "  if __name__ == '__main__':\n",
      "/opt/dsserver/lib/python3.4/site-packages/ipykernel/__main__.py:2: SettingWithCopyWarning: \n",
      "A value is trying to be set on a copy of a slice from a DataFrame.\n",
      "Try using .loc[row_indexer,col_indexer] = value instead\n",
      "\n",
      "See the the caveats in the documentation: http://pandas.pydata.org/pandas-docs/stable/indexing.html#indexing-view-versus-copy\n",
      "  from ipykernel import kernelapp as app\n",
      "/opt/dsserver/lib/python3.4/site-packages/ipykernel/__main__.py:3: SettingWithCopyWarning: \n",
      "A value is trying to be set on a copy of a slice from a DataFrame.\n",
      "Try using .loc[row_indexer,col_indexer] = value instead\n",
      "\n",
      "See the the caveats in the documentation: http://pandas.pydata.org/pandas-docs/stable/indexing.html#indexing-view-versus-copy\n",
      "  app.launch_new_instance()\n"
     ]
    }
   ],
   "source": [
    "pk['share_white'] = pk['share_white'].astype(float)\n",
    "pk['share_black'] = pk['share_black'].astype(float)\n",
    "pk['share_hispanic'] = pk['share_hispanic'].astype(float)"
   ]
  },
  {
   "cell_type": "code",
   "execution_count": 66,
   "metadata": {
    "collapsed": false
   },
   "outputs": [],
   "source": [
    "# 10 states with the lowest shooting rate\n",
    "lowest_10_states = states.sort('rate')[0:10]['STATE'].tolist()"
   ]
  },
  {
   "cell_type": "code",
   "execution_count": 88,
   "metadata": {
    "collapsed": false
   },
   "outputs": [],
   "source": [
    "# polics killing in those 10 states\n",
    "lowest_10_states_killings = pk[pk['state_fp'].isin(lowest_10_states)]"
   ]
  },
  {
   "cell_type": "code",
   "execution_count": 93,
   "metadata": {
    "collapsed": false
   },
   "outputs": [
    {
     "data": {
      "text/html": [
       "<div style=\"max-height:1000px;max-width:1500px;overflow:auto;\">\n",
       "<table border=\"1\" class=\"dataframe\">\n",
       "  <thead>\n",
       "    <tr style=\"text-align: right;\">\n",
       "      <th></th>\n",
       "      <th>pop</th>\n",
       "      <th>county_income</th>\n",
       "      <th>share_white</th>\n",
       "      <th>share_black</th>\n",
       "      <th>share_hispanic</th>\n",
       "    </tr>\n",
       "  </thead>\n",
       "  <tbody>\n",
       "    <tr>\n",
       "      <th>count</th>\n",
       "      <td>   55.000000</td>\n",
       "      <td>    55.000000</td>\n",
       "      <td> 55.000000</td>\n",
       "      <td> 55.000000</td>\n",
       "      <td> 55.000000</td>\n",
       "    </tr>\n",
       "    <tr>\n",
       "      <th>mean</th>\n",
       "      <td> 4153.472727</td>\n",
       "      <td> 55037.963636</td>\n",
       "      <td> 60.132727</td>\n",
       "      <td> 21.610909</td>\n",
       "      <td> 12.994545</td>\n",
       "    </tr>\n",
       "    <tr>\n",
       "      <th>std</th>\n",
       "      <td> 1395.466029</td>\n",
       "      <td> 12468.570173</td>\n",
       "      <td> 32.653614</td>\n",
       "      <td> 27.898976</td>\n",
       "      <td> 15.433434</td>\n",
       "    </tr>\n",
       "    <tr>\n",
       "      <th>min</th>\n",
       "      <td> 1271.000000</td>\n",
       "      <td> 34388.000000</td>\n",
       "      <td>  0.000000</td>\n",
       "      <td>  0.000000</td>\n",
       "      <td>  0.000000</td>\n",
       "    </tr>\n",
       "    <tr>\n",
       "      <th>25%</th>\n",
       "      <td> 3236.500000</td>\n",
       "      <td> 46578.500000</td>\n",
       "      <td> 38.900000</td>\n",
       "      <td>  2.150000</td>\n",
       "      <td>  1.800000</td>\n",
       "    </tr>\n",
       "    <tr>\n",
       "      <th>50%</th>\n",
       "      <td> 4079.000000</td>\n",
       "      <td> 53119.000000</td>\n",
       "      <td> 72.100000</td>\n",
       "      <td>  9.300000</td>\n",
       "      <td>  5.900000</td>\n",
       "    </tr>\n",
       "    <tr>\n",
       "      <th>75%</th>\n",
       "      <td> 4923.500000</td>\n",
       "      <td> 59206.000000</td>\n",
       "      <td> 88.300000</td>\n",
       "      <td> 27.450000</td>\n",
       "      <td> 20.350000</td>\n",
       "    </tr>\n",
       "    <tr>\n",
       "      <th>max</th>\n",
       "      <td> 8222.000000</td>\n",
       "      <td> 87763.000000</td>\n",
       "      <td> 97.200000</td>\n",
       "      <td> 98.900000</td>\n",
       "      <td> 71.900000</td>\n",
       "    </tr>\n",
       "  </tbody>\n",
       "</table>\n",
       "</div>"
      ],
      "text/plain": [
       "               pop  county_income  share_white  share_black  share_hispanic\n",
       "count    55.000000      55.000000    55.000000    55.000000       55.000000\n",
       "mean   4153.472727   55037.963636    60.132727    21.610909       12.994545\n",
       "std    1395.466029   12468.570173    32.653614    27.898976       15.433434\n",
       "min    1271.000000   34388.000000     0.000000     0.000000        0.000000\n",
       "25%    3236.500000   46578.500000    38.900000     2.150000        1.800000\n",
       "50%    4079.000000   53119.000000    72.100000     9.300000        5.900000\n",
       "75%    4923.500000   59206.000000    88.300000    27.450000       20.350000\n",
       "max    8222.000000   87763.000000    97.200000    98.900000       71.900000"
      ]
     },
     "execution_count": 93,
     "metadata": {},
     "output_type": "execute_result"
    }
   ],
   "source": [
    "# get some stats on these columns\n",
    "interesting_columns = [\n",
    "    'pop', \n",
    "    'county_income', \n",
    "    'share_white', \n",
    "    'share_black', \n",
    "    'share_hispanic']\n",
    "\n",
    "lowest_10_states_killings[interesting_columns].describe()"
   ]
  },
  {
   "cell_type": "code",
   "execution_count": 91,
   "metadata": {
    "collapsed": false
   },
   "outputs": [],
   "source": [
    "# 10 states with the highest shooting rate\n",
    "highest_10_states = states.sort('rate', ascending=False)[0:10]['STATE'].tolist()"
   ]
  },
  {
   "cell_type": "code",
   "execution_count": 92,
   "metadata": {
    "collapsed": true
   },
   "outputs": [],
   "source": [
    "# polics killing in those 10 states\n",
    "highest_10_states_killings = pk[pk['state_fp'].isin(highest_10_states)]"
   ]
  },
  {
   "cell_type": "code",
   "execution_count": 94,
   "metadata": {
    "collapsed": false
   },
   "outputs": [
    {
     "data": {
      "text/html": [
       "<div style=\"max-height:1000px;max-width:1500px;overflow:auto;\">\n",
       "<table border=\"1\" class=\"dataframe\">\n",
       "  <thead>\n",
       "    <tr style=\"text-align: right;\">\n",
       "      <th></th>\n",
       "      <th>pop</th>\n",
       "      <th>county_income</th>\n",
       "      <th>share_white</th>\n",
       "      <th>share_black</th>\n",
       "      <th>share_hispanic</th>\n",
       "    </tr>\n",
       "  </thead>\n",
       "  <tbody>\n",
       "    <tr>\n",
       "      <th>count</th>\n",
       "      <td>    92.000000</td>\n",
       "      <td>    92.000000</td>\n",
       "      <td> 92.000000</td>\n",
       "      <td> 92.000000</td>\n",
       "      <td> 92.000000</td>\n",
       "    </tr>\n",
       "    <tr>\n",
       "      <th>mean</th>\n",
       "      <td>  4315.750000</td>\n",
       "      <td> 48706.967391</td>\n",
       "      <td> 55.652174</td>\n",
       "      <td> 11.532609</td>\n",
       "      <td> 20.693478</td>\n",
       "    </tr>\n",
       "    <tr>\n",
       "      <th>std</th>\n",
       "      <td>  2063.723609</td>\n",
       "      <td>  9839.206872</td>\n",
       "      <td> 24.406158</td>\n",
       "      <td> 19.591303</td>\n",
       "      <td> 20.415690</td>\n",
       "    </tr>\n",
       "    <tr>\n",
       "      <th>min</th>\n",
       "      <td>   403.000000</td>\n",
       "      <td> 25498.000000</td>\n",
       "      <td>  2.100000</td>\n",
       "      <td>  0.000000</td>\n",
       "      <td>  0.000000</td>\n",
       "    </tr>\n",
       "    <tr>\n",
       "      <th>25%</th>\n",
       "      <td>  2886.000000</td>\n",
       "      <td> 42987.000000</td>\n",
       "      <td> 39.175000</td>\n",
       "      <td>  0.675000</td>\n",
       "      <td>  4.350000</td>\n",
       "    </tr>\n",
       "    <tr>\n",
       "      <th>50%</th>\n",
       "      <td>  4257.500000</td>\n",
       "      <td> 48801.000000</td>\n",
       "      <td> 58.200000</td>\n",
       "      <td>  2.700000</td>\n",
       "      <td> 10.850000</td>\n",
       "    </tr>\n",
       "    <tr>\n",
       "      <th>75%</th>\n",
       "      <td>  5377.000000</td>\n",
       "      <td> 53596.000000</td>\n",
       "      <td> 74.200000</td>\n",
       "      <td> 11.550000</td>\n",
       "      <td> 31.725000</td>\n",
       "    </tr>\n",
       "    <tr>\n",
       "      <th>max</th>\n",
       "      <td> 13561.000000</td>\n",
       "      <td> 77454.000000</td>\n",
       "      <td> 95.900000</td>\n",
       "      <td> 93.100000</td>\n",
       "      <td> 81.500000</td>\n",
       "    </tr>\n",
       "  </tbody>\n",
       "</table>\n",
       "</div>"
      ],
      "text/plain": [
       "                pop  county_income  share_white  share_black  share_hispanic\n",
       "count     92.000000      92.000000    92.000000    92.000000       92.000000\n",
       "mean    4315.750000   48706.967391    55.652174    11.532609       20.693478\n",
       "std     2063.723609    9839.206872    24.406158    19.591303       20.415690\n",
       "min      403.000000   25498.000000     2.100000     0.000000        0.000000\n",
       "25%     2886.000000   42987.000000    39.175000     0.675000        4.350000\n",
       "50%     4257.500000   48801.000000    58.200000     2.700000       10.850000\n",
       "75%     5377.000000   53596.000000    74.200000    11.550000       31.725000\n",
       "max    13561.000000   77454.000000    95.900000    93.100000       81.500000"
      ]
     },
     "execution_count": 94,
     "metadata": {},
     "output_type": "execute_result"
    }
   ],
   "source": [
    "highest_10_states_killings[interesting_columns].describe()"
   ]
  },
  {
   "cell_type": "markdown",
   "metadata": {},
   "source": [
    "We're actually looking at columns that contain county-level data for where the shooting occurred. So we're not actually doing a state by state comparison of the columns. This may bias the data, and change what we found."
   ]
  },
  {
   "cell_type": "markdown",
   "metadata": {},
   "source": [
    "Also, we filtered rows with '-' which might have biased the data"
   ]
  },
  {
   "cell_type": "code",
   "execution_count": null,
   "metadata": {
    "collapsed": true
   },
   "outputs": [],
   "source": []
  }
 ],
 "metadata": {
  "kernelspec": {
   "display_name": "Python 3",
   "language": "python",
   "name": "python3"
  },
  "language_info": {
   "codemirror_mode": {
    "name": "ipython",
    "version": 3
   },
   "file_extension": ".py",
   "mimetype": "text/x-python",
   "name": "python",
   "nbconvert_exporter": "python",
   "pygments_lexer": "ipython3",
   "version": "3.4.3"
  }
 },
 "nbformat": 4,
 "nbformat_minor": 0
}
