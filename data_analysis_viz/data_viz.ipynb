{
 "cells": [
  {
   "cell_type": "code",
   "execution_count": 13,
   "metadata": {
    "collapsed": true
   },
   "outputs": [],
   "source": [
    "import numpy as np\n",
    "import pandas as pd\n",
    "import matplotlib.pyplot as plt\n",
    "import seaborn as sns\n",
    "%matplotlib inline"
   ]
  },
  {
   "cell_type": "code",
   "execution_count": 2,
   "metadata": {
    "collapsed": true
   },
   "outputs": [],
   "source": [
    "hollywood_movies = pd.read_csv('hollywood_movies.csv')"
   ]
  },
  {
   "cell_type": "code",
   "execution_count": 3,
   "metadata": {
    "collapsed": false
   },
   "outputs": [
    {
     "data": {
      "text/html": [
       "<div>\n",
       "<table border=\"1\" class=\"dataframe\">\n",
       "  <thead>\n",
       "    <tr style=\"text-align: right;\">\n",
       "      <th></th>\n",
       "      <th>Year</th>\n",
       "      <th>exclude</th>\n",
       "      <th>Film</th>\n",
       "      <th>Lead Studio</th>\n",
       "      <th>Critic Rating</th>\n",
       "      <th>Audience Rating</th>\n",
       "      <th>Story</th>\n",
       "      <th>Genre</th>\n",
       "      <th>Opening Weekend Theaters</th>\n",
       "      <th>Opening Weekend per Cinema</th>\n",
       "      <th>Domestic Gross</th>\n",
       "      <th>Foreign Gross</th>\n",
       "      <th>Worldwide Gross</th>\n",
       "      <th>Budget</th>\n",
       "      <th>Profitability</th>\n",
       "      <th>Opening Weekend Revenue</th>\n",
       "      <th>Oscar</th>\n",
       "    </tr>\n",
       "  </thead>\n",
       "  <tbody>\n",
       "    <tr>\n",
       "      <th>0</th>\n",
       "      <td>2011</td>\n",
       "      <td>NaN</td>\n",
       "      <td>Average</td>\n",
       "      <td>NaN</td>\n",
       "      <td>52.84</td>\n",
       "      <td>61.42</td>\n",
       "      <td>NaN</td>\n",
       "      <td>NaN</td>\n",
       "      <td>2810.31</td>\n",
       "      <td>8764.92</td>\n",
       "      <td>61.33</td>\n",
       "      <td>93.53</td>\n",
       "      <td>144.86</td>\n",
       "      <td>52.25</td>\n",
       "      <td>3.4200</td>\n",
       "      <td>20.14</td>\n",
       "      <td>NaN</td>\n",
       "    </tr>\n",
       "    <tr>\n",
       "      <th>1</th>\n",
       "      <td>2011</td>\n",
       "      <td>NaN</td>\n",
       "      <td>The Tree Of Life</td>\n",
       "      <td>Independant</td>\n",
       "      <td>84.00</td>\n",
       "      <td>61.00</td>\n",
       "      <td>Discovery</td>\n",
       "      <td>Drama</td>\n",
       "      <td>4.00</td>\n",
       "      <td>93230.00</td>\n",
       "      <td>13.30</td>\n",
       "      <td>41.00</td>\n",
       "      <td>54.30</td>\n",
       "      <td>32.00</td>\n",
       "      <td>1.6970</td>\n",
       "      <td>0.37</td>\n",
       "      <td>NaN</td>\n",
       "    </tr>\n",
       "    <tr>\n",
       "      <th>2</th>\n",
       "      <td>2011</td>\n",
       "      <td>NaN</td>\n",
       "      <td>Midnight in Paris</td>\n",
       "      <td>Sony</td>\n",
       "      <td>93.00</td>\n",
       "      <td>84.00</td>\n",
       "      <td>Love</td>\n",
       "      <td>Romance</td>\n",
       "      <td>944.00</td>\n",
       "      <td>61777.00</td>\n",
       "      <td>56.18</td>\n",
       "      <td>83.00</td>\n",
       "      <td>139.18</td>\n",
       "      <td>17.00</td>\n",
       "      <td>8.1869</td>\n",
       "      <td>5.83</td>\n",
       "      <td>NaN</td>\n",
       "    </tr>\n",
       "    <tr>\n",
       "      <th>3</th>\n",
       "      <td>2011</td>\n",
       "      <td>NaN</td>\n",
       "      <td>Harry Potter and the Deathly Hallows Part 2</td>\n",
       "      <td>Warner Bros</td>\n",
       "      <td>96.00</td>\n",
       "      <td>92.00</td>\n",
       "      <td>Rivalry</td>\n",
       "      <td>Fantasy</td>\n",
       "      <td>4375.00</td>\n",
       "      <td>38672.00</td>\n",
       "      <td>381.01</td>\n",
       "      <td>947.10</td>\n",
       "      <td>1328.11</td>\n",
       "      <td>125.00</td>\n",
       "      <td>10.6249</td>\n",
       "      <td>169.19</td>\n",
       "      <td>NaN</td>\n",
       "    </tr>\n",
       "    <tr>\n",
       "      <th>4</th>\n",
       "      <td>2011</td>\n",
       "      <td>NaN</td>\n",
       "      <td>Twilight: Breaking Dawn</td>\n",
       "      <td>Independant</td>\n",
       "      <td>26.00</td>\n",
       "      <td>68.00</td>\n",
       "      <td>Love</td>\n",
       "      <td>Romance</td>\n",
       "      <td>4061.00</td>\n",
       "      <td>34012.00</td>\n",
       "      <td>260.80</td>\n",
       "      <td>374.00</td>\n",
       "      <td>634.80</td>\n",
       "      <td>110.00</td>\n",
       "      <td>5.7709</td>\n",
       "      <td>138.12</td>\n",
       "      <td>NaN</td>\n",
       "    </tr>\n",
       "  </tbody>\n",
       "</table>\n",
       "</div>"
      ],
      "text/plain": [
       "   Year  exclude                                         Film  Lead Studio  \\\n",
       "0  2011      NaN                                      Average          NaN   \n",
       "1  2011      NaN                             The Tree Of Life  Independant   \n",
       "2  2011      NaN                            Midnight in Paris         Sony   \n",
       "3  2011      NaN  Harry Potter and the Deathly Hallows Part 2  Warner Bros   \n",
       "4  2011      NaN                      Twilight: Breaking Dawn  Independant   \n",
       "\n",
       "   Critic Rating  Audience Rating      Story    Genre  \\\n",
       "0          52.84            61.42        NaN      NaN   \n",
       "1          84.00            61.00  Discovery    Drama   \n",
       "2          93.00            84.00       Love  Romance   \n",
       "3          96.00            92.00    Rivalry  Fantasy   \n",
       "4          26.00            68.00       Love  Romance   \n",
       "\n",
       "   Opening Weekend Theaters  Opening Weekend per Cinema  Domestic Gross  \\\n",
       "0                   2810.31                     8764.92           61.33   \n",
       "1                      4.00                    93230.00           13.30   \n",
       "2                    944.00                    61777.00           56.18   \n",
       "3                   4375.00                    38672.00          381.01   \n",
       "4                   4061.00                    34012.00          260.80   \n",
       "\n",
       "   Foreign Gross  Worldwide Gross  Budget  Profitability  \\\n",
       "0          93.53           144.86   52.25         3.4200   \n",
       "1          41.00            54.30   32.00         1.6970   \n",
       "2          83.00           139.18   17.00         8.1869   \n",
       "3         947.10          1328.11  125.00        10.6249   \n",
       "4         374.00           634.80  110.00         5.7709   \n",
       "\n",
       "   Opening Weekend Revenue Oscar  \n",
       "0                    20.14   NaN  \n",
       "1                     0.37   NaN  \n",
       "2                     5.83   NaN  \n",
       "3                   169.19   NaN  \n",
       "4                   138.12   NaN  "
      ]
     },
     "execution_count": 3,
     "metadata": {},
     "output_type": "execute_result"
    }
   ],
   "source": [
    "hollywood_movies.head()"
   ]
  },
  {
   "cell_type": "code",
   "execution_count": 4,
   "metadata": {
    "collapsed": false
   },
   "outputs": [
    {
     "data": {
      "text/plain": [
       "(517, 17)"
      ]
     },
     "execution_count": 4,
     "metadata": {},
     "output_type": "execute_result"
    }
   ],
   "source": [
    "hollywood_movies.shape"
   ]
  },
  {
   "cell_type": "code",
   "execution_count": 5,
   "metadata": {
    "collapsed": false
   },
   "outputs": [
    {
     "name": "stderr",
     "output_type": "stream",
     "text": [
      "/Users/mehdielamine/miniconda2/envs/dataquest/lib/python3.5/site-packages/numpy/lib/function_base.py:3823: RuntimeWarning: Invalid value encountered in percentile\n",
      "  RuntimeWarning)\n"
     ]
    },
    {
     "data": {
      "text/html": [
       "<div>\n",
       "<table border=\"1\" class=\"dataframe\">\n",
       "  <thead>\n",
       "    <tr style=\"text-align: right;\">\n",
       "      <th></th>\n",
       "      <th>Year</th>\n",
       "      <th>exclude</th>\n",
       "      <th>Critic Rating</th>\n",
       "      <th>Audience Rating</th>\n",
       "      <th>Opening Weekend Theaters</th>\n",
       "      <th>Opening Weekend per Cinema</th>\n",
       "      <th>Domestic Gross</th>\n",
       "      <th>Foreign Gross</th>\n",
       "      <th>Worldwide Gross</th>\n",
       "      <th>Budget</th>\n",
       "      <th>Profitability</th>\n",
       "      <th>Opening Weekend Revenue</th>\n",
       "    </tr>\n",
       "  </thead>\n",
       "  <tbody>\n",
       "    <tr>\n",
       "      <th>count</th>\n",
       "      <td>517.000000</td>\n",
       "      <td>0.0</td>\n",
       "      <td>516.000000</td>\n",
       "      <td>515.000000</td>\n",
       "      <td>489.000000</td>\n",
       "      <td>483.000000</td>\n",
       "      <td>516.000000</td>\n",
       "      <td>499.000000</td>\n",
       "      <td>517.000000</td>\n",
       "      <td>517.000000</td>\n",
       "      <td>517.000000</td>\n",
       "      <td>516.000000</td>\n",
       "    </tr>\n",
       "    <tr>\n",
       "      <th>mean</th>\n",
       "      <td>2009.152805</td>\n",
       "      <td>NaN</td>\n",
       "      <td>51.379961</td>\n",
       "      <td>61.840447</td>\n",
       "      <td>2828.432658</td>\n",
       "      <td>8839.775694</td>\n",
       "      <td>79.117965</td>\n",
       "      <td>102.577275</td>\n",
       "      <td>178.898201</td>\n",
       "      <td>59.651789</td>\n",
       "      <td>25.975806</td>\n",
       "      <td>24.394070</td>\n",
       "    </tr>\n",
       "    <tr>\n",
       "      <th>std</th>\n",
       "      <td>1.429837</td>\n",
       "      <td>NaN</td>\n",
       "      <td>26.418852</td>\n",
       "      <td>16.409561</td>\n",
       "      <td>915.995345</td>\n",
       "      <td>8121.485051</td>\n",
       "      <td>82.694645</td>\n",
       "      <td>161.928046</td>\n",
       "      <td>234.537302</td>\n",
       "      <td>54.366817</td>\n",
       "      <td>502.128079</td>\n",
       "      <td>25.246324</td>\n",
       "    </tr>\n",
       "    <tr>\n",
       "      <th>min</th>\n",
       "      <td>2007.000000</td>\n",
       "      <td>NaN</td>\n",
       "      <td>1.000000</td>\n",
       "      <td>19.000000</td>\n",
       "      <td>2.000000</td>\n",
       "      <td>1459.000000</td>\n",
       "      <td>0.020000</td>\n",
       "      <td>0.000000</td>\n",
       "      <td>0.410000</td>\n",
       "      <td>0.015000</td>\n",
       "      <td>0.036800</td>\n",
       "      <td>0.000000</td>\n",
       "    </tr>\n",
       "    <tr>\n",
       "      <th>25%</th>\n",
       "      <td>2008.000000</td>\n",
       "      <td>NaN</td>\n",
       "      <td>NaN</td>\n",
       "      <td>NaN</td>\n",
       "      <td>NaN</td>\n",
       "      <td>NaN</td>\n",
       "      <td>NaN</td>\n",
       "      <td>NaN</td>\n",
       "      <td>45.740000</td>\n",
       "      <td>20.000000</td>\n",
       "      <td>1.524100</td>\n",
       "      <td>NaN</td>\n",
       "    </tr>\n",
       "    <tr>\n",
       "      <th>50%</th>\n",
       "      <td>2009.000000</td>\n",
       "      <td>NaN</td>\n",
       "      <td>NaN</td>\n",
       "      <td>NaN</td>\n",
       "      <td>NaN</td>\n",
       "      <td>NaN</td>\n",
       "      <td>NaN</td>\n",
       "      <td>NaN</td>\n",
       "      <td>96.130000</td>\n",
       "      <td>40.000000</td>\n",
       "      <td>2.519800</td>\n",
       "      <td>NaN</td>\n",
       "    </tr>\n",
       "    <tr>\n",
       "      <th>75%</th>\n",
       "      <td>2010.000000</td>\n",
       "      <td>NaN</td>\n",
       "      <td>NaN</td>\n",
       "      <td>NaN</td>\n",
       "      <td>NaN</td>\n",
       "      <td>NaN</td>\n",
       "      <td>NaN</td>\n",
       "      <td>NaN</td>\n",
       "      <td>215.280000</td>\n",
       "      <td>80.000000</td>\n",
       "      <td>4.005700</td>\n",
       "      <td>NaN</td>\n",
       "    </tr>\n",
       "    <tr>\n",
       "      <th>max</th>\n",
       "      <td>2011.000000</td>\n",
       "      <td>NaN</td>\n",
       "      <td>99.000000</td>\n",
       "      <td>96.000000</td>\n",
       "      <td>4468.000000</td>\n",
       "      <td>93230.000000</td>\n",
       "      <td>743.800000</td>\n",
       "      <td>1969.000000</td>\n",
       "      <td>2712.850000</td>\n",
       "      <td>300.000000</td>\n",
       "      <td>11420.000000</td>\n",
       "      <td>169.190000</td>\n",
       "    </tr>\n",
       "  </tbody>\n",
       "</table>\n",
       "</div>"
      ],
      "text/plain": [
       "              Year  exclude  Critic Rating  Audience Rating  \\\n",
       "count   517.000000      0.0     516.000000       515.000000   \n",
       "mean   2009.152805      NaN      51.379961        61.840447   \n",
       "std       1.429837      NaN      26.418852        16.409561   \n",
       "min    2007.000000      NaN       1.000000        19.000000   \n",
       "25%    2008.000000      NaN            NaN              NaN   \n",
       "50%    2009.000000      NaN            NaN              NaN   \n",
       "75%    2010.000000      NaN            NaN              NaN   \n",
       "max    2011.000000      NaN      99.000000        96.000000   \n",
       "\n",
       "       Opening Weekend Theaters  Opening Weekend per Cinema  Domestic Gross  \\\n",
       "count                489.000000                  483.000000      516.000000   \n",
       "mean                2828.432658                 8839.775694       79.117965   \n",
       "std                  915.995345                 8121.485051       82.694645   \n",
       "min                    2.000000                 1459.000000        0.020000   \n",
       "25%                         NaN                         NaN             NaN   \n",
       "50%                         NaN                         NaN             NaN   \n",
       "75%                         NaN                         NaN             NaN   \n",
       "max                 4468.000000                93230.000000      743.800000   \n",
       "\n",
       "       Foreign Gross  Worldwide Gross      Budget  Profitability  \\\n",
       "count     499.000000       517.000000  517.000000     517.000000   \n",
       "mean      102.577275       178.898201   59.651789      25.975806   \n",
       "std       161.928046       234.537302   54.366817     502.128079   \n",
       "min         0.000000         0.410000    0.015000       0.036800   \n",
       "25%              NaN        45.740000   20.000000       1.524100   \n",
       "50%              NaN        96.130000   40.000000       2.519800   \n",
       "75%              NaN       215.280000   80.000000       4.005700   \n",
       "max      1969.000000      2712.850000  300.000000   11420.000000   \n",
       "\n",
       "       Opening Weekend Revenue  \n",
       "count               516.000000  \n",
       "mean                 24.394070  \n",
       "std                  25.246324  \n",
       "min                   0.000000  \n",
       "25%                        NaN  \n",
       "50%                        NaN  \n",
       "75%                        NaN  \n",
       "max                 169.190000  "
      ]
     },
     "execution_count": 5,
     "metadata": {},
     "output_type": "execute_result"
    }
   ],
   "source": [
    "hollywood_movies.describe()"
   ]
  },
  {
   "cell_type": "code",
   "execution_count": 6,
   "metadata": {
    "collapsed": false
   },
   "outputs": [
    {
     "data": {
      "text/plain": [
       "Series([], Name: exclude, dtype: int64)"
      ]
     },
     "execution_count": 6,
     "metadata": {},
     "output_type": "execute_result"
    }
   ],
   "source": [
    "hollywood_movies['exclude'].value_counts()"
   ]
  },
  {
   "cell_type": "code",
   "execution_count": 8,
   "metadata": {
    "collapsed": false
   },
   "outputs": [],
   "source": [
    "hollywood_movies = hollywood_movies.drop('exclude', 1)"
   ]
  },
  {
   "cell_type": "code",
   "execution_count": 9,
   "metadata": {
    "collapsed": false
   },
   "outputs": [
    {
     "data": {
      "text/html": [
       "<div>\n",
       "<table border=\"1\" class=\"dataframe\">\n",
       "  <thead>\n",
       "    <tr style=\"text-align: right;\">\n",
       "      <th></th>\n",
       "      <th>Year</th>\n",
       "      <th>Film</th>\n",
       "      <th>Lead Studio</th>\n",
       "      <th>Critic Rating</th>\n",
       "      <th>Audience Rating</th>\n",
       "      <th>Story</th>\n",
       "      <th>Genre</th>\n",
       "      <th>Opening Weekend Theaters</th>\n",
       "      <th>Opening Weekend per Cinema</th>\n",
       "      <th>Domestic Gross</th>\n",
       "      <th>Foreign Gross</th>\n",
       "      <th>Worldwide Gross</th>\n",
       "      <th>Budget</th>\n",
       "      <th>Profitability</th>\n",
       "      <th>Opening Weekend Revenue</th>\n",
       "      <th>Oscar</th>\n",
       "    </tr>\n",
       "  </thead>\n",
       "  <tbody>\n",
       "    <tr>\n",
       "      <th>0</th>\n",
       "      <td>2011</td>\n",
       "      <td>Average</td>\n",
       "      <td>NaN</td>\n",
       "      <td>52.84</td>\n",
       "      <td>61.42</td>\n",
       "      <td>NaN</td>\n",
       "      <td>NaN</td>\n",
       "      <td>2810.31</td>\n",
       "      <td>8764.92</td>\n",
       "      <td>61.33</td>\n",
       "      <td>93.53</td>\n",
       "      <td>144.86</td>\n",
       "      <td>52.25</td>\n",
       "      <td>3.4200</td>\n",
       "      <td>20.14</td>\n",
       "      <td>NaN</td>\n",
       "    </tr>\n",
       "    <tr>\n",
       "      <th>1</th>\n",
       "      <td>2011</td>\n",
       "      <td>The Tree Of Life</td>\n",
       "      <td>Independant</td>\n",
       "      <td>84.00</td>\n",
       "      <td>61.00</td>\n",
       "      <td>Discovery</td>\n",
       "      <td>Drama</td>\n",
       "      <td>4.00</td>\n",
       "      <td>93230.00</td>\n",
       "      <td>13.30</td>\n",
       "      <td>41.00</td>\n",
       "      <td>54.30</td>\n",
       "      <td>32.00</td>\n",
       "      <td>1.6970</td>\n",
       "      <td>0.37</td>\n",
       "      <td>NaN</td>\n",
       "    </tr>\n",
       "    <tr>\n",
       "      <th>2</th>\n",
       "      <td>2011</td>\n",
       "      <td>Midnight in Paris</td>\n",
       "      <td>Sony</td>\n",
       "      <td>93.00</td>\n",
       "      <td>84.00</td>\n",
       "      <td>Love</td>\n",
       "      <td>Romance</td>\n",
       "      <td>944.00</td>\n",
       "      <td>61777.00</td>\n",
       "      <td>56.18</td>\n",
       "      <td>83.00</td>\n",
       "      <td>139.18</td>\n",
       "      <td>17.00</td>\n",
       "      <td>8.1869</td>\n",
       "      <td>5.83</td>\n",
       "      <td>NaN</td>\n",
       "    </tr>\n",
       "  </tbody>\n",
       "</table>\n",
       "</div>"
      ],
      "text/plain": [
       "   Year               Film  Lead Studio  Critic Rating  Audience Rating  \\\n",
       "0  2011            Average          NaN          52.84            61.42   \n",
       "1  2011   The Tree Of Life  Independant          84.00            61.00   \n",
       "2  2011  Midnight in Paris         Sony          93.00            84.00   \n",
       "\n",
       "       Story    Genre  Opening Weekend Theaters  Opening Weekend per Cinema  \\\n",
       "0        NaN      NaN                   2810.31                     8764.92   \n",
       "1  Discovery    Drama                      4.00                    93230.00   \n",
       "2       Love  Romance                    944.00                    61777.00   \n",
       "\n",
       "   Domestic Gross  Foreign Gross  Worldwide Gross  Budget  Profitability  \\\n",
       "0           61.33          93.53           144.86   52.25         3.4200   \n",
       "1           13.30          41.00            54.30   32.00         1.6970   \n",
       "2           56.18          83.00           139.18   17.00         8.1869   \n",
       "\n",
       "   Opening Weekend Revenue Oscar  \n",
       "0                    20.14   NaN  \n",
       "1                     0.37   NaN  \n",
       "2                     5.83   NaN  "
      ]
     },
     "execution_count": 9,
     "metadata": {},
     "output_type": "execute_result"
    }
   ],
   "source": [
    "hollywood_movies.head(3)"
   ]
  },
  {
   "cell_type": "code",
   "execution_count": 14,
   "metadata": {
    "collapsed": false
   },
   "outputs": [
    {
     "data": {
      "image/png": "[encoded data removed]",
      "text/plain": [
       "<matplotlib.figure.Figure at 0x1156e6630>"
      ]
     },
     "metadata": {},
     "output_type": "display_data"
    }
   ],
   "source": [
    "fig = plt.figure(figsize=(6,10))\n",
    "\n",
    "ax1 = fig.add_subplot(2,1,1)\n",
    "ax1.scatter(hollywood_movies['Profitability'], hollywood_movies['Audience Rating'])\n",
    "ax1.set(xlabel='Profitability', ylabel='Audience Rating', title='Hollywood Movies, 2007-2011')\n",
    "\n",
    "ax2 = fig.add_subplot(2,1,2)\n",
    "ax2.scatter(hollywood_movies['Audience Rating'], hollywood_movies['Profitability'])\n",
    "ax2.set(ylabel='Profitability', xlabel='Audience Rating', title='Hollywood Movies, 2007-2011')\n",
    "\n",
    "plt.show()"
   ]
  },
  {
   "cell_type": "code",
   "execution_count": 15,
   "metadata": {
    "collapsed": true
   },
   "outputs": [],
   "source": [
    "normal_movies = hollywood_movies[hollywood_movies['Film'] != 'Paranormal Activity']"
   ]
  },
  {
   "cell_type": "code",
   "execution_count": 16,
   "metadata": {
    "collapsed": false
   },
   "outputs": [
    {
     "data": {
      "text/plain": [
       "(516, 16)"
      ]
     },
     "execution_count": 16,
     "metadata": {},
     "output_type": "execute_result"
    }
   ],
   "source": [
    "normal_movies.shape"
   ]
  },
  {
   "cell_type": "code",
   "execution_count": 17,
   "metadata": {
    "collapsed": false
   },
   "outputs": [
    {
     "data": {
      "text/plain": [
       "(517, 16)"
      ]
     },
     "execution_count": 17,
     "metadata": {},
     "output_type": "execute_result"
    }
   ],
   "source": [
    "hollywood_movies.shape"
   ]
  },
  {
   "cell_type": "code",
   "execution_count": 18,
   "metadata": {
    "collapsed": false
   },
   "outputs": [
    {
     "data": {
      "image/png": "[encoded data removed]",
      "text/plain": [
       "<matplotlib.figure.Figure at 0x1157ab898>"
      ]
     },
     "metadata": {},
     "output_type": "display_data"
    }
   ],
   "source": [
    "fig2 = plt.figure(figsize=(6,10))\n",
    "\n",
    "ax1 = fig2.add_subplot(2,1,1)\n",
    "ax1.scatter(normal_movies['Profitability'], normal_movies['Audience Rating'])\n",
    "ax1.set(xlabel='Profitability', ylabel='Audience Rating', title='Hollywood Movies, 2007-2011')\n",
    "\n",
    "ax2 = fig2.add_subplot(2,1,2)\n",
    "ax2.scatter(normal_movies['Audience Rating'], normal_movies['Profitability'])\n",
    "ax2.set(ylabel='Profitability', xlabel='Audience Rating', title='Hollywood Movies, 2007-2011')\n",
    "\n",
    "plt.show()"
   ]
  },
  {
   "cell_type": "code",
   "execution_count": 20,
   "metadata": {
    "collapsed": false
   },
   "outputs": [
    {
     "data": {
      "text/plain": [
       "array([[<matplotlib.axes._subplots.AxesSubplot object at 0x115663908>,\n",
       "        <matplotlib.axes._subplots.AxesSubplot object at 0x115f640f0>],\n",
       "       [<matplotlib.axes._subplots.AxesSubplot object at 0x11563ae10>,\n",
       "        <matplotlib.axes._subplots.AxesSubplot object at 0x115660c50>]], dtype=object)"
      ]
     },
     "execution_count": 20,
     "metadata": {},
     "output_type": "execute_result"
    },
    {
     "data": {
      "image/png": "[encoded data removed]",
      "text/plain": [
       "<matplotlib.figure.Figure at 0x115619668>"
      ]
     },
     "metadata": {},
     "output_type": "display_data"
    }
   ],
   "source": [
    "from pandas.tools.plotting import scatter_matrix\n",
    "\n",
    "scatter_matrix(normal_movies[['Profitability', 'Audience Rating']], figsize=(12,12))"
   ]
  },
  {
   "cell_type": "code",
   "execution_count": 23,
   "metadata": {
    "collapsed": false
   },
   "outputs": [
    {
     "data": {
      "text/plain": [
       "<matplotlib.axes._subplots.AxesSubplot at 0x115619f28>"
      ]
     },
     "execution_count": 23,
     "metadata": {},
     "output_type": "execute_result"
    },
    {
     "data": {
      "image/png": "[encoded data removed]",
      "text/plain": [
       "<matplotlib.figure.Figure at 0x116abb7f0>"
      ]
     },
     "metadata": {},
     "output_type": "display_data"
    }
   ],
   "source": [
    "normal_movies[['Critic Rating', 'Audience Rating']].plot(kind='box')"
   ]
  },
  {
   "cell_type": "code",
   "execution_count": 24,
   "metadata": {
    "collapsed": true
   },
   "outputs": [],
   "source": [
    "normal_movies = normal_movies.sort_values(by='Year')"
   ]
  },
  {
   "cell_type": "code",
   "execution_count": 25,
   "metadata": {
    "collapsed": false
   },
   "outputs": [
    {
     "data": {
      "text/html": [
       "<div>\n",
       "<table border=\"1\" class=\"dataframe\">\n",
       "  <thead>\n",
       "    <tr style=\"text-align: right;\">\n",
       "      <th></th>\n",
       "      <th>Year</th>\n",
       "      <th>Film</th>\n",
       "      <th>Lead Studio</th>\n",
       "      <th>Critic Rating</th>\n",
       "      <th>Audience Rating</th>\n",
       "      <th>Story</th>\n",
       "      <th>Genre</th>\n",
       "      <th>Opening Weekend Theaters</th>\n",
       "      <th>Opening Weekend per Cinema</th>\n",
       "      <th>Domestic Gross</th>\n",
       "      <th>Foreign Gross</th>\n",
       "      <th>Worldwide Gross</th>\n",
       "      <th>Budget</th>\n",
       "      <th>Profitability</th>\n",
       "      <th>Opening Weekend Revenue</th>\n",
       "      <th>Oscar</th>\n",
       "    </tr>\n",
       "  </thead>\n",
       "  <tbody>\n",
       "    <tr>\n",
       "      <th>516</th>\n",
       "      <td>2007</td>\n",
       "      <td>Grindhouse</td>\n",
       "      <td>The Weinstein Company</td>\n",
       "      <td>82.0</td>\n",
       "      <td>86.0</td>\n",
       "      <td>pursuit</td>\n",
       "      <td>Action</td>\n",
       "      <td>2624.0</td>\n",
       "      <td>4419.0</td>\n",
       "      <td>25.04</td>\n",
       "      <td>0.38</td>\n",
       "      <td>25.42</td>\n",
       "      <td>53.0</td>\n",
       "      <td>0.4797</td>\n",
       "      <td>11.6</td>\n",
       "      <td>NaN</td>\n",
       "    </tr>\n",
       "    <tr>\n",
       "      <th>455</th>\n",
       "      <td>2007</td>\n",
       "      <td>Enchanted</td>\n",
       "      <td>Disney</td>\n",
       "      <td>93.0</td>\n",
       "      <td>80.0</td>\n",
       "      <td>Love</td>\n",
       "      <td>Comedy</td>\n",
       "      <td>3730.0</td>\n",
       "      <td>9233.0</td>\n",
       "      <td>127.81</td>\n",
       "      <td>212.68</td>\n",
       "      <td>340.49</td>\n",
       "      <td>85.0</td>\n",
       "      <td>4.0057</td>\n",
       "      <td>34.4</td>\n",
       "      <td>NaN</td>\n",
       "    </tr>\n",
       "    <tr>\n",
       "      <th>456</th>\n",
       "      <td>2007</td>\n",
       "      <td>Sicko</td>\n",
       "      <td>The Weinstein Company</td>\n",
       "      <td>93.0</td>\n",
       "      <td>87.0</td>\n",
       "      <td>quest</td>\n",
       "      <td>Documentary</td>\n",
       "      <td>702.0</td>\n",
       "      <td>5128.0</td>\n",
       "      <td>24.54</td>\n",
       "      <td>11.23</td>\n",
       "      <td>35.77</td>\n",
       "      <td>9.0</td>\n",
       "      <td>3.9742</td>\n",
       "      <td>3.6</td>\n",
       "      <td>NaN</td>\n",
       "    </tr>\n",
       "    <tr>\n",
       "      <th>457</th>\n",
       "      <td>2007</td>\n",
       "      <td>Halloween</td>\n",
       "      <td>The Weinstein Company</td>\n",
       "      <td>26.0</td>\n",
       "      <td>64.0</td>\n",
       "      <td>Pursuit</td>\n",
       "      <td>Horror</td>\n",
       "      <td>3472.0</td>\n",
       "      <td>7592.0</td>\n",
       "      <td>58.27</td>\n",
       "      <td>20.20</td>\n",
       "      <td>78.47</td>\n",
       "      <td>20.0</td>\n",
       "      <td>3.9235</td>\n",
       "      <td>26.4</td>\n",
       "      <td>NaN</td>\n",
       "    </tr>\n",
       "    <tr>\n",
       "      <th>458</th>\n",
       "      <td>2007</td>\n",
       "      <td>I Am Legend</td>\n",
       "      <td>Warner Bros.</td>\n",
       "      <td>69.0</td>\n",
       "      <td>69.0</td>\n",
       "      <td>Quest</td>\n",
       "      <td>Thriller</td>\n",
       "      <td>3606.0</td>\n",
       "      <td>21411.0</td>\n",
       "      <td>256.39</td>\n",
       "      <td>327.76</td>\n",
       "      <td>584.16</td>\n",
       "      <td>150.0</td>\n",
       "      <td>3.8944</td>\n",
       "      <td>77.2</td>\n",
       "      <td>NaN</td>\n",
       "    </tr>\n",
       "  </tbody>\n",
       "</table>\n",
       "</div>"
      ],
      "text/plain": [
       "     Year         Film            Lead Studio  Critic Rating  Audience Rating  \\\n",
       "516  2007   Grindhouse  The Weinstein Company           82.0             86.0   \n",
       "455  2007    Enchanted                 Disney           93.0             80.0   \n",
       "456  2007        Sicko  The Weinstein Company           93.0             87.0   \n",
       "457  2007    Halloween  The Weinstein Company           26.0             64.0   \n",
       "458  2007  I Am Legend           Warner Bros.           69.0             69.0   \n",
       "\n",
       "       Story        Genre  Opening Weekend Theaters  \\\n",
       "516  pursuit       Action                    2624.0   \n",
       "455     Love       Comedy                    3730.0   \n",
       "456    quest  Documentary                     702.0   \n",
       "457  Pursuit       Horror                    3472.0   \n",
       "458    Quest     Thriller                    3606.0   \n",
       "\n",
       "     Opening Weekend per Cinema  Domestic Gross  Foreign Gross  \\\n",
       "516                      4419.0           25.04           0.38   \n",
       "455                      9233.0          127.81         212.68   \n",
       "456                      5128.0           24.54          11.23   \n",
       "457                      7592.0           58.27          20.20   \n",
       "458                     21411.0          256.39         327.76   \n",
       "\n",
       "     Worldwide Gross  Budget  Profitability  Opening Weekend Revenue Oscar  \n",
       "516            25.42    53.0         0.4797                     11.6   NaN  \n",
       "455           340.49    85.0         4.0057                     34.4   NaN  \n",
       "456            35.77     9.0         3.9742                      3.6   NaN  \n",
       "457            78.47    20.0         3.9235                     26.4   NaN  \n",
       "458           584.16   150.0         3.8944                     77.2   NaN  "
      ]
     },
     "execution_count": 25,
     "metadata": {},
     "output_type": "execute_result"
    }
   ],
   "source": [
    "normal_movies.head(5)"
   ]
  },
  {
   "cell_type": "code",
   "execution_count": 33,
   "metadata": {
    "collapsed": false
   },
   "outputs": [
    {
     "data": {
      "text/plain": [
       "<matplotlib.axes._subplots.AxesSubplot at 0x115980b70>"
      ]
     },
     "execution_count": 33,
     "metadata": {},
     "output_type": "execute_result"
    },
    {
     "data": {
      "image/png": "[encoded data removed]",
      "text/plain": [
       "<matplotlib.figure.Figure at 0x117466eb8>"
      ]
     },
     "metadata": {},
     "output_type": "display_data"
    }
   ],
   "source": [
    "fig1 = plt.figure(figsize=(8,4))\n",
    "\n",
    "ax1 = fig1.add_subplot(1,2,1)\n",
    "sns.boxplot(x=normal_movies['Year'], y=normal_movies['Critic Rating'])\n",
    "\n",
    "ax2 = fig1.add_subplot(1,2,2)\n",
    "sns.boxplot(x=normal_movies['Year'], y=normal_movies['Audience Rating'])\n"
   ]
  },
  {
   "cell_type": "code",
   "execution_count": 30,
   "metadata": {
    "collapsed": true
   },
   "outputs": [],
   "source": [
    "def is_profitable(row):\n",
    "    if row[\"Profitability\"] <= 1.0:\n",
    "        return False\n",
    "    return True\n",
    "normal_movies[\"Profitable\"] = normal_movies.apply(is_profitable, axis=1)"
   ]
  },
  {
   "cell_type": "code",
   "execution_count": 35,
   "metadata": {
    "collapsed": false
   },
   "outputs": [
    {
     "data": {
      "text/plain": [
       "<matplotlib.axes._subplots.AxesSubplot at 0x11823a0f0>"
      ]
     },
     "execution_count": 35,
     "metadata": {},
     "output_type": "execute_result"
    },
    {
     "data": {
      "image/png": "[encoded data removed]",
      "text/plain": [
       "<matplotlib.figure.Figure at 0x116ff3a90>"
      ]
     },
     "metadata": {},
     "output_type": "display_data"
    }
   ],
   "source": [
    "fig2 = plt.figure(figsize=(12,6))\n",
    "ax3 = fig2.add_subplot(1,2,1)\n",
    "sns.boxplot(x=normal_movies['Profitable'], y=normal_movies['Audience Rating'])\n",
    "\n",
    "ax4 = fig2.add_subplot(1,2,2)\n",
    "sns.boxplot(x=normal_movies['Profitable'], y=normal_movies['Critic Rating'])"
   ]
  },
  {
   "cell_type": "code",
   "execution_count": null,
   "metadata": {
    "collapsed": true
   },
   "outputs": [],
   "source": []
  }
 ],
 "metadata": {
  "kernelspec": {
   "display_name": "Python 3",
   "language": "python",
   "name": "python3"
  },
  "language_info": {
   "codemirror_mode": {
    "name": "ipython",
    "version": 3
   },
   "file_extension": ".py",
   "mimetype": "text/x-python",
   "name": "python",
   "nbconvert_exporter": "python",
   "pygments_lexer": "ipython3",
   "version": "3.5.1"
  }
 },
 "nbformat": 4,
 "nbformat_minor": 0
}
